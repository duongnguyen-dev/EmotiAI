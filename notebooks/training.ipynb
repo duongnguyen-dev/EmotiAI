{
 "cells": [
  {
   "cell_type": "code",
   "execution_count": 1,
   "metadata": {},
   "outputs": [],
   "source": [
    "from src.utils import *\n",
    "from src.models.mlp import MLP\n",
    "from src.metrics import classification_metrics"
   ]
  },
  {
   "cell_type": "code",
   "execution_count": 2,
   "metadata": {},
   "outputs": [],
   "source": [
    "X_train, y_train = load_ds(\"train\")\n",
    "X_test, y_test = load_ds(\"test\")\n",
    "X_eval, y_eval = load_ds(\"dev\")"
   ]
  },
  {
   "cell_type": "code",
   "execution_count": 3,
   "metadata": {},
   "outputs": [
    {
     "name": "stdout",
     "output_type": "stream",
     "text": [
      "Epoch 1/2\n"
     ]
    },
    {
     "name": "stderr",
     "output_type": "stream",
     "text": [
      "/Users/haiduong/miniforge3/envs/emotiai/lib/python3.11/site-packages/keras/src/layers/core/embedding.py:90: UserWarning: Argument `input_length` is deprecated. Just remove it.\n",
      "  warnings.warn(\n"
     ]
    },
    {
     "name": "stdout",
     "output_type": "stream",
     "text": [
      "\u001b[1m1357/1357\u001b[0m \u001b[32m━━━━━━━━━━━━━━━━━━━━\u001b[0m\u001b[37m\u001b[0m \u001b[1m25s\u001b[0m 18ms/step - binary_accuracy: 0.9537 - f1__macro: 0.0184 - loss: 0.1797 - precision: 0.0907 - recall: 0.0092 - val_binary_accuracy: 0.9580 - val_f1__macro: 0.0175 - val_loss: 0.1501 - val_precision: 0.0000e+00 - val_recall: 0.0000e+00\n",
      "Epoch 2/2\n",
      "\u001b[1m1357/1357\u001b[0m \u001b[32m━━━━━━━━━━━━━━━━━━━━\u001b[0m\u001b[37m\u001b[0m \u001b[1m24s\u001b[0m 18ms/step - binary_accuracy: 0.9580 - f1__macro: 0.0175 - loss: 0.1490 - precision: 0.4520 - recall: 0.0022 - val_binary_accuracy: 0.9578 - val_f1__macro: 0.0175 - val_loss: 0.1513 - val_precision: 0.2903 - val_recall: 0.0028\n"
     ]
    },
    {
     "data": {
      "text/plain": [
       "<keras.src.callbacks.history.History at 0x16837b2d0>"
      ]
     },
     "execution_count": 3,
     "metadata": {},
     "output_type": "execute_result"
    }
   ],
   "source": [
    "\n",
    "\n",
    "model = MLP()\n",
    "metrics = classification_metrics(\"macro\")\n",
    "\n",
    "model = MLP()\n",
    "\n",
    "model.compile(\n",
    "    loss=\"binary_crossentropy\",\n",
    "    optimizer=\"adam\",\n",
    "    metrics=metrics\n",
    ")\n",
    "\n",
    "\n",
    "model.fit(X_train, y_train, epochs=2, validation_data=(X_eval, y_eval))"
   ]
  },
  {
   "cell_type": "code",
   "execution_count": null,
   "metadata": {},
   "outputs": [
    {
     "data": {
      "text/plain": [
       "array([  29,   14,   49,  409, 1025,    6,    2,    1,    1,    1,    0,\n",
       "          0,    0], dtype=int32)"
      ]
     },
     "execution_count": 35,
     "metadata": {},
     "output_type": "execute_result"
    }
   ],
   "source": [
    "X_test[0].numpy()"
   ]
  },
  {
   "cell_type": "code",
   "execution_count": null,
   "metadata": {},
   "outputs": [
    {
     "name": "stderr",
     "output_type": "stream",
     "text": [
      "Downloading artifacts: 100%|██████████| 7/7 [00:00<00:00,  8.24it/s] \n",
      "/Users/haiduong/miniforge3/envs/emotiai/lib/python3.11/site-packages/keras/src/layers/core/embedding.py:90: UserWarning: Argument `input_length` is deprecated. Just remove it.\n",
      "  warnings.warn(\n",
      "/Users/haiduong/miniforge3/envs/emotiai/lib/python3.11/site-packages/keras/src/saving/saving_lib.py:757: UserWarning: Skipping variable loading for optimizer 'rmsprop', because it has 9 variables whereas the saved optimizer has 16 variables. \n",
      "  saveable.load_own_variables(weights_store.get(inner_path))\n"
     ]
    },
    {
     "ename": "MlflowException",
     "evalue": "Failed to enforce schema of data '[  29   14   49  409 1025    6    2    1    1    1    0    0    0]' with schema '[Tensor('int32', (-1, 13))]'. Error: This model contains a tensor-based model signature with no input names, which suggests a numpy array input or a pandas dataframe input with proper column values, but an input of type <class 'tensorflow.python.framework.ops.EagerTensor'> was found.",
     "output_type": "error",
     "traceback": [
      "\u001b[0;31m---------------------------------------------------------------------------\u001b[0m",
      "\u001b[0;31mMlflowException\u001b[0m                           Traceback (most recent call last)",
      "File \u001b[0;32m~/miniforge3/envs/emotiai/lib/python3.11/site-packages/mlflow/pyfunc/__init__.py:720\u001b[0m, in \u001b[0;36m_validate_prediction_input\u001b[0;34m(data, params, input_schema, params_schema, flavor)\u001b[0m\n\u001b[1;32m    719\u001b[0m \u001b[38;5;28;01mtry\u001b[39;00m:\n\u001b[0;32m--> 720\u001b[0m     data \u001b[38;5;241m=\u001b[39m \u001b[43m_enforce_schema\u001b[49m\u001b[43m(\u001b[49m\u001b[43mdata\u001b[49m\u001b[43m,\u001b[49m\u001b[43m \u001b[49m\u001b[43minput_schema\u001b[49m\u001b[43m,\u001b[49m\u001b[43m \u001b[49m\u001b[43mflavor\u001b[49m\u001b[43m)\u001b[49m\n\u001b[1;32m    721\u001b[0m \u001b[38;5;28;01mexcept\u001b[39;00m \u001b[38;5;167;01mException\u001b[39;00m \u001b[38;5;28;01mas\u001b[39;00m e:\n\u001b[1;32m    722\u001b[0m     \u001b[38;5;66;03m# Include error in message for backwards compatibility\u001b[39;00m\n",
      "File \u001b[0;32m~/miniforge3/envs/emotiai/lib/python3.11/site-packages/mlflow/models/utils.py:1276\u001b[0m, in \u001b[0;36m_enforce_schema\u001b[0;34m(pf_input, input_schema, flavor)\u001b[0m\n\u001b[1;32m   1275\u001b[0m \u001b[38;5;28;01mif\u001b[39;00m input_schema\u001b[38;5;241m.\u001b[39mis_tensor_spec():\n\u001b[0;32m-> 1276\u001b[0m     \u001b[38;5;28;01mreturn\u001b[39;00m \u001b[43m_enforce_tensor_schema\u001b[49m\u001b[43m(\u001b[49m\u001b[43mpf_input\u001b[49m\u001b[43m,\u001b[49m\u001b[43m \u001b[49m\u001b[43minput_schema\u001b[49m\u001b[43m)\u001b[49m\n\u001b[1;32m   1277\u001b[0m \u001b[38;5;28;01melif\u001b[39;00m HAS_PYSPARK \u001b[38;5;129;01mand\u001b[39;00m \u001b[38;5;28misinstance\u001b[39m(original_pf_input, SparkDataFrame):\n",
      "File \u001b[0;32m~/miniforge3/envs/emotiai/lib/python3.11/site-packages/mlflow/models/utils.py:1127\u001b[0m, in \u001b[0;36m_enforce_tensor_schema\u001b[0;34m(pf_input, input_schema)\u001b[0m\n\u001b[1;32m   1126\u001b[0m     \u001b[38;5;28;01melse\u001b[39;00m:\n\u001b[0;32m-> 1127\u001b[0m         \u001b[38;5;28;01mraise\u001b[39;00m MlflowException(\n\u001b[1;32m   1128\u001b[0m             \u001b[38;5;124m\"\u001b[39m\u001b[38;5;124mThis model contains a tensor-based model signature with no input names,\u001b[39m\u001b[38;5;124m\"\u001b[39m\n\u001b[1;32m   1129\u001b[0m             \u001b[38;5;124m\"\u001b[39m\u001b[38;5;124m which suggests a numpy array input or a pandas dataframe input with\u001b[39m\u001b[38;5;124m\"\u001b[39m\n\u001b[1;32m   1130\u001b[0m             \u001b[38;5;124mf\u001b[39m\u001b[38;5;124m\"\u001b[39m\u001b[38;5;124m proper column values, but an input of type \u001b[39m\u001b[38;5;132;01m{\u001b[39;00m\u001b[38;5;28mtype\u001b[39m(pf_input)\u001b[38;5;132;01m}\u001b[39;00m\u001b[38;5;124m was found.\u001b[39m\u001b[38;5;124m\"\u001b[39m,\n\u001b[1;32m   1131\u001b[0m             error_code\u001b[38;5;241m=\u001b[39mINVALID_PARAMETER_VALUE,\n\u001b[1;32m   1132\u001b[0m         )\n\u001b[1;32m   1133\u001b[0m \u001b[38;5;28;01mreturn\u001b[39;00m new_pf_input\n",
      "\u001b[0;31mMlflowException\u001b[0m: This model contains a tensor-based model signature with no input names, which suggests a numpy array input or a pandas dataframe input with proper column values, but an input of type <class 'tensorflow.python.framework.ops.EagerTensor'> was found.",
      "\nDuring handling of the above exception, another exception occurred:\n",
      "\u001b[0;31mMlflowException\u001b[0m                           Traceback (most recent call last)",
      "Cell \u001b[0;32mIn[37], line 8\u001b[0m\n\u001b[1;32m      5\u001b[0m mlflow\u001b[38;5;241m.\u001b[39mset_tracking_uri(\u001b[38;5;124m\"\u001b[39m\u001b[38;5;124mhttp://localhost:5000\u001b[39m\u001b[38;5;124m\"\u001b[39m)\n\u001b[1;32m      6\u001b[0m loaded_model \u001b[38;5;241m=\u001b[39m mlflow\u001b[38;5;241m.\u001b[39mpyfunc\u001b[38;5;241m.\u001b[39mload_model(logged_model)\n\u001b[0;32m----> 8\u001b[0m y_pred \u001b[38;5;241m=\u001b[39m \u001b[43mloaded_model\u001b[49m\u001b[38;5;241;43m.\u001b[39;49m\u001b[43mpredict\u001b[49m\u001b[43m(\u001b[49m\u001b[43mX_test\u001b[49m\u001b[43m[\u001b[49m\u001b[38;5;241;43m0\u001b[39;49m\u001b[43m]\u001b[49m\u001b[43m)\u001b[49m\n\u001b[1;32m      9\u001b[0m \u001b[38;5;28mprint\u001b[39m(y_pred)\n",
      "File \u001b[0;32m~/miniforge3/envs/emotiai/lib/python3.11/site-packages/mlflow/pyfunc/__init__.py:802\u001b[0m, in \u001b[0;36mPyFuncModel.predict\u001b[0;34m(self, data, params)\u001b[0m\n\u001b[1;32m    800\u001b[0m \u001b[38;5;28;01mif\u001b[39;00m schema \u001b[38;5;241m:=\u001b[39m _get_dependencies_schema_from_model(\u001b[38;5;28mself\u001b[39m\u001b[38;5;241m.\u001b[39m_model_meta):\n\u001b[1;32m    801\u001b[0m     context\u001b[38;5;241m.\u001b[39mupdate(\u001b[38;5;241m*\u001b[39m\u001b[38;5;241m*\u001b[39mschema)\n\u001b[0;32m--> 802\u001b[0m \u001b[38;5;28;01mreturn\u001b[39;00m \u001b[38;5;28;43mself\u001b[39;49m\u001b[38;5;241;43m.\u001b[39;49m\u001b[43m_predict\u001b[49m\u001b[43m(\u001b[49m\u001b[43mdata\u001b[49m\u001b[43m,\u001b[49m\u001b[43m \u001b[49m\u001b[43mparams\u001b[49m\u001b[43m)\u001b[49m\n",
      "File \u001b[0;32m~/miniforge3/envs/emotiai/lib/python3.11/site-packages/mlflow/pyfunc/__init__.py:841\u001b[0m, in \u001b[0;36mPyFuncModel._predict\u001b[0;34m(self, data, params)\u001b[0m\n\u001b[1;32m    839\u001b[0m     params \u001b[38;5;241m=\u001b[39m _enforce_params_schema(params, \u001b[38;5;28mself\u001b[39m\u001b[38;5;241m.\u001b[39mparams_schema)\n\u001b[1;32m    840\u001b[0m \u001b[38;5;28;01melse\u001b[39;00m:\n\u001b[0;32m--> 841\u001b[0m     data, params \u001b[38;5;241m=\u001b[39m \u001b[43m_validate_prediction_input\u001b[49m\u001b[43m(\u001b[49m\n\u001b[1;32m    842\u001b[0m \u001b[43m        \u001b[49m\u001b[43mdata\u001b[49m\u001b[43m,\u001b[49m\u001b[43m \u001b[49m\u001b[43mparams\u001b[49m\u001b[43m,\u001b[49m\u001b[43m \u001b[49m\u001b[38;5;28;43mself\u001b[39;49m\u001b[38;5;241;43m.\u001b[39;49m\u001b[43minput_schema\u001b[49m\u001b[43m,\u001b[49m\u001b[43m \u001b[49m\u001b[38;5;28;43mself\u001b[39;49m\u001b[38;5;241;43m.\u001b[39;49m\u001b[43mparams_schema\u001b[49m\u001b[43m,\u001b[49m\u001b[43m \u001b[49m\u001b[38;5;28;43mself\u001b[39;49m\u001b[38;5;241;43m.\u001b[39;49m\u001b[43mloader_module\u001b[49m\n\u001b[1;32m    843\u001b[0m \u001b[43m    \u001b[49m\u001b[43m)\u001b[49m\n\u001b[1;32m    844\u001b[0m     \u001b[38;5;28;01mif\u001b[39;00m (\n\u001b[1;32m    845\u001b[0m         \u001b[38;5;28misinstance\u001b[39m(data, pandas\u001b[38;5;241m.\u001b[39mDataFrame)\n\u001b[1;32m    846\u001b[0m         \u001b[38;5;129;01mand\u001b[39;00m \u001b[38;5;28mself\u001b[39m\u001b[38;5;241m.\u001b[39mmetadata\u001b[38;5;241m.\u001b[39m_is_type_hint_from_example()\n\u001b[1;32m    847\u001b[0m         \u001b[38;5;129;01mand\u001b[39;00m \u001b[38;5;28mself\u001b[39m\u001b[38;5;241m.\u001b[39minput_example \u001b[38;5;129;01mis\u001b[39;00m \u001b[38;5;129;01mnot\u001b[39;00m \u001b[38;5;28;01mNone\u001b[39;00m\n\u001b[1;32m    848\u001b[0m     ):\n\u001b[1;32m    849\u001b[0m         data \u001b[38;5;241m=\u001b[39m _convert_dataframe_to_example_format(data, \u001b[38;5;28mself\u001b[39m\u001b[38;5;241m.\u001b[39minput_example)\n",
      "File \u001b[0;32m~/miniforge3/envs/emotiai/lib/python3.11/site-packages/mlflow/pyfunc/__init__.py:723\u001b[0m, in \u001b[0;36m_validate_prediction_input\u001b[0;34m(data, params, input_schema, params_schema, flavor)\u001b[0m\n\u001b[1;32m    720\u001b[0m         data \u001b[38;5;241m=\u001b[39m _enforce_schema(data, input_schema, flavor)\n\u001b[1;32m    721\u001b[0m     \u001b[38;5;28;01mexcept\u001b[39;00m \u001b[38;5;167;01mException\u001b[39;00m \u001b[38;5;28;01mas\u001b[39;00m e:\n\u001b[1;32m    722\u001b[0m         \u001b[38;5;66;03m# Include error in message for backwards compatibility\u001b[39;00m\n\u001b[0;32m--> 723\u001b[0m         \u001b[38;5;28;01mraise\u001b[39;00m MlflowException\u001b[38;5;241m.\u001b[39minvalid_parameter_value(\n\u001b[1;32m    724\u001b[0m             \u001b[38;5;124mf\u001b[39m\u001b[38;5;124m\"\u001b[39m\u001b[38;5;124mFailed to enforce schema of data \u001b[39m\u001b[38;5;124m'\u001b[39m\u001b[38;5;132;01m{\u001b[39;00mdata\u001b[38;5;132;01m}\u001b[39;00m\u001b[38;5;124m'\u001b[39m\u001b[38;5;124m \u001b[39m\u001b[38;5;124m\"\u001b[39m\n\u001b[1;32m    725\u001b[0m             \u001b[38;5;124mf\u001b[39m\u001b[38;5;124m\"\u001b[39m\u001b[38;5;124mwith schema \u001b[39m\u001b[38;5;124m'\u001b[39m\u001b[38;5;132;01m{\u001b[39;00minput_schema\u001b[38;5;132;01m}\u001b[39;00m\u001b[38;5;124m'\u001b[39m\u001b[38;5;124m. \u001b[39m\u001b[38;5;124m\"\u001b[39m\n\u001b[1;32m    726\u001b[0m             \u001b[38;5;124mf\u001b[39m\u001b[38;5;124m\"\u001b[39m\u001b[38;5;124mError: \u001b[39m\u001b[38;5;132;01m{\u001b[39;00me\u001b[38;5;132;01m}\u001b[39;00m\u001b[38;5;124m\"\u001b[39m,\n\u001b[1;32m    727\u001b[0m         )\n\u001b[1;32m    728\u001b[0m params \u001b[38;5;241m=\u001b[39m _enforce_params_schema(params, params_schema)\n\u001b[1;32m    729\u001b[0m \u001b[38;5;28;01mif\u001b[39;00m HAS_PYSPARK \u001b[38;5;129;01mand\u001b[39;00m \u001b[38;5;28misinstance\u001b[39m(data, SparkDataFrame):\n",
      "\u001b[0;31mMlflowException\u001b[0m: Failed to enforce schema of data '[  29   14   49  409 1025    6    2    1    1    1    0    0    0]' with schema '[Tensor('int32', (-1, 13))]'. Error: This model contains a tensor-based model signature with no input names, which suggests a numpy array input or a pandas dataframe input with proper column values, but an input of type <class 'tensorflow.python.framework.ops.EagerTensor'> was found."
     ]
    }
   ],
   "source": [
    "import mlflow\n",
    "logged_model = 'models:/goemotion_MLP/7'\n",
    "# Load model as a PyFuncModel.\n",
    "\n",
    "mlflow.set_tracking_uri(\"http://localhost:5000\")\n",
    "loaded_model = mlflow.pyfunc.load_model(logged_model)\n",
    "\n",
    "y_pred = loaded_model.predict(X_test[0].numpy().reshape(-1, len(X_test[0])))\n",
    "print(y_pred)"
   ]
  },
  {
   "cell_type": "code",
   "execution_count": null,
   "metadata": {},
   "outputs": [],
   "source": []
  }
 ],
 "metadata": {
  "kernelspec": {
   "display_name": "Python 3",
   "language": "python",
   "name": "python3"
  },
  "language_info": {
   "codemirror_mode": {
    "name": "ipython",
    "version": 3
   },
   "file_extension": ".py",
   "mimetype": "text/x-python",
   "name": "python",
   "nbconvert_exporter": "python",
   "pygments_lexer": "ipython3",
   "version": "3.11.11"
  }
 },
 "nbformat": 4,
 "nbformat_minor": 2
}
